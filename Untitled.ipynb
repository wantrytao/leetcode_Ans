{
 "cells": [
  {
   "cell_type": "code",
   "execution_count": 55,
   "metadata": {
    "collapsed": false
   },
   "outputs": [],
   "source": [
    "grid = [[3,0,8,4],[2,4,5,7],[9,2,6,3],[0,3,1,0]]\n"
   ]
  },
  {
   "cell_type": "code",
   "execution_count": 17,
   "metadata": {
    "collapsed": false
   },
   "outputs": [
    {
     "data": {
      "text/plain": [
       "4"
      ]
     },
     "execution_count": 17,
     "metadata": {},
     "output_type": "execute_result"
    }
   ],
   "source": [
    "len(grid)"
   ]
  },
  {
   "cell_type": "code",
   "execution_count": 18,
   "metadata": {
    "collapsed": false
   },
   "outputs": [
    {
     "data": {
      "text/plain": [
       "4"
      ]
     },
     "execution_count": 18,
     "metadata": {},
     "output_type": "execute_result"
    }
   ],
   "source": [
    "len(grid[0])"
   ]
  },
  {
   "cell_type": "code",
   "execution_count": 35,
   "metadata": {
    "collapsed": false
   },
   "outputs": [
    {
     "name": "stdout",
     "output_type": "stream",
     "text": [
      "8\n",
      "7\n",
      "9\n",
      "3\n"
     ]
    }
   ],
   "source": [
    "for i in grid:\n",
    "    print(max(i))"
   ]
  },
  {
   "cell_type": "code",
   "execution_count": 37,
   "metadata": {
    "collapsed": false
   },
   "outputs": [
    {
     "name": "stdout",
     "output_type": "stream",
     "text": [
      "[8, 7, 9, 3]\n"
     ]
    }
   ],
   "source": [
    "row_max = [max(row) for row in grid]\n",
    "print(row_max)"
   ]
  },
  {
   "cell_type": "code",
   "execution_count": 82,
   "metadata": {
    "collapsed": false
   },
   "outputs": [
    {
     "name": "stdout",
     "output_type": "stream",
     "text": [
      "[9, 4, 8, 7]\n",
      "5\n",
      "9\n",
      "9\n",
      "12\n",
      "17\n",
      "17\n",
      "19\n",
      "19\n",
      "19\n",
      "21\n",
      "23\n",
      "27\n",
      "30\n",
      "30\n",
      "32\n",
      "35\n",
      "35\n"
     ]
    }
   ],
   "source": [
    "col_max=[]\n",
    "for col_Idx in range(len(grid[0])):\n",
    "    col = [grid[row][col_Idx] for row in range(len(grid))]\n",
    "    col_max.append(max(col))\n",
    "print(col_max)\n",
    "increase = 0\n",
    "##new=[]\n",
    "for row in range(len(grid)):\n",
    "    ##newrow=[]\n",
    "    for col in range(len(grid[0])):\n",
    "        ##newrow.append(min(row_max[row],col_max[col]))\n",
    "        increase += min(row_max[row],col_max[col])-grid[row][col]\n",
    "        print(increase)\n",
    "    ##new.append(newrow)\n",
    "    \n",
    "print(increase)\n",
    "##print(new)"
   ]
  },
  {
   "cell_type": "code",
   "execution_count": 33,
   "metadata": {
    "collapsed": true
   },
   "outputs": [],
   "source": [
    "class Solution:\n",
    "    def maxIncreaseKeepingSkyline(self, grid):\n",
    "        \"\"\"\n",
    "        :type grid: List[List[int]]\n",
    "        :rtype: int\n",
    "        \"\"\"\n",
    "        row_maxes = [max(row) for row in grid]\n",
    "\n",
    "        col_maxes = []\n",
    "        for colIdx in range(len(grid[0])):\n",
    "            col = [grid[row][colIdx] for row in range(len(grid))]\n",
    "            col_maxes.append(max(col))\n",
    "\n",
    "        increases = 0\n",
    "        for idx, row in enumerate(grid):\n",
    "            for jdx, height in enumerate(row):\n",
    "                increases += min(row_maxes[idx], col_maxes[jdx]) - height\n",
    "        return increases"
   ]
  },
  {
   "cell_type": "code",
   "execution_count": 95,
   "metadata": {
    "collapsed": false
   },
   "outputs": [],
   "source": [
    "class Solution:\n",
    "    def maxIncreaseKeepingSkyline(grid):\n",
    "        row_max = [max(row) for row in grid]\n",
    "        print(row_max)\n",
    "        \n",
    "        col_max=[]\n",
    "        for col_Idx in range(len(grid[0])):\n",
    "            col=[grid[row][col_Idx] for row in range(len(grid))]\n",
    "            col_max.append(max(col))\n",
    "            ##print(col_max)\n",
    " \n",
    "        increase = 0\n",
    "        for i in range(len(grid)):\n",
    "            for j in range(len(grid[0])):\n",
    "                increase += min(row_max[i],col_max[j])-grid[i][j]\n",
    "        return increase"
   ]
  },
  {
   "cell_type": "code",
   "execution_count": 96,
   "metadata": {
    "collapsed": false
   },
   "outputs": [
    {
     "name": "stdout",
     "output_type": "stream",
     "text": [
      "[8, 7, 9, 3]\n"
     ]
    },
    {
     "data": {
      "text/plain": [
       "35"
      ]
     },
     "execution_count": 96,
     "metadata": {},
     "output_type": "execute_result"
    }
   ],
   "source": [
    "Solution.maxIncreaseKeepingSkyline(grid)"
   ]
  },
  {
   "cell_type": "code",
   "execution_count": 100,
   "metadata": {
    "collapsed": true
   },
   "outputs": [],
   "source": [
    "class Solution(object):\n",
    "    def toLowerCase(str):\n",
    "        \"\"\"\n",
    "        :type str: str\n",
    "        :rtype: str\n",
    "        \"\"\"\n",
    "        return(str.lower())"
   ]
  },
  {
   "cell_type": "code",
   "execution_count": 101,
   "metadata": {
    "collapsed": false
   },
   "outputs": [
    {
     "data": {
      "text/plain": [
       "'lovely'"
      ]
     },
     "execution_count": 101,
     "metadata": {},
     "output_type": "execute_result"
    }
   ],
   "source": [
    "s=\"LOVELY\"\n",
    "Solution.toLowerCase(s)"
   ]
  },
  {
   "cell_type": "code",
   "execution_count": 118,
   "metadata": {
    "collapsed": false
   },
   "outputs": [
    {
     "data": {
      "text/plain": [
       "str"
      ]
     },
     "execution_count": 118,
     "metadata": {},
     "output_type": "execute_result"
    }
   ],
   "source": [
    "s = \"hello\"\n",
    "type(s)"
   ]
  },
  {
   "cell_type": "code",
   "execution_count": 117,
   "metadata": {
    "collapsed": false
   },
   "outputs": [
    {
     "name": "stdout",
     "output_type": "stream",
     "text": [
      "olleh\n"
     ]
    },
    {
     "data": {
      "text/plain": [
       "str"
      ]
     },
     "execution_count": 117,
     "metadata": {},
     "output_type": "execute_result"
    }
   ],
   "source": [
    "lists=[]\n",
    "for i in range(len(s)):\n",
    "    lists.append(s[len(s)-i-1])\n",
    "##print(lists)\n",
    "revs=\"\".join(str(e) for e in lists)\n",
    "print(revs)\n",
    "##type(revs)\n",
    "type(s)"
   ]
  },
  {
   "cell_type": "code",
   "execution_count": 107,
   "metadata": {
    "collapsed": false
   },
   "outputs": [
    {
     "data": {
      "text/plain": [
       "'e'"
      ]
     },
     "execution_count": 107,
     "metadata": {},
     "output_type": "execute_result"
    }
   ],
   "source": [
    "s[1]"
   ]
  },
  {
   "cell_type": "code",
   "execution_count": 120,
   "metadata": {
    "collapsed": false
   },
   "outputs": [],
   "source": [
    "class Solution(object):\n",
    "    def reverseString(self, s):\n",
    "        \"\"\"\n",
    "        :type s: str\n",
    "        :rtype: str\n",
    "        \"\"\"\n",
    "        \n",
    "        \"\"\"\n",
    "        zhen tao\n",
    "        first attempt\n",
    "        \"\"\"\n",
    "        \n",
    "        lists = []\n",
    "        for i in range(len(s)):\n",
    "            lists.append(s[len(s)-i-1])\n",
    "        \n",
    "        revs = \"\".join(str(i) for i in lists)\n",
    "        \n",
    "        return revs"
   ]
  },
  {
   "cell_type": "code",
   "execution_count": 123,
   "metadata": {
    "collapsed": false
   },
   "outputs": [
    {
     "name": "stdout",
     "output_type": "stream",
     "text": [
      "o\n",
      "l\n",
      "l\n",
      "e\n",
      "h\n"
     ]
    }
   ],
   "source": [
    "for i in s[::-1]:\n",
    "    print(i)"
   ]
  },
  {
   "cell_type": "code",
   "execution_count": 124,
   "metadata": {
    "collapsed": false
   },
   "outputs": [
    {
     "data": {
      "text/plain": [
       "'olleh'"
      ]
     },
     "execution_count": 124,
     "metadata": {},
     "output_type": "execute_result"
    }
   ],
   "source": [
    "s[::-1]"
   ]
  },
  {
   "cell_type": "code",
   "execution_count": 128,
   "metadata": {
    "collapsed": true
   },
   "outputs": [],
   "source": [
    "class Solution(object):\n",
    "    def reverseString(s):\n",
    "        \"\"\"\n",
    "        :type s: str\n",
    "        :rtype: str\n",
    "        \"\"\"\n",
    "        \n",
    "        \"\"\"\n",
    "        zhen tao\n",
    "        second attempt\n",
    "        \"\"\"\n",
    "        revs = ''\n",
    "        for i in s[::-1]:\n",
    "            revs = revs+i\n",
    "        \n",
    "        return revs"
   ]
  },
  {
   "cell_type": "code",
   "execution_count": 129,
   "metadata": {
    "collapsed": false
   },
   "outputs": [
    {
     "data": {
      "text/plain": [
       "'olleh'"
      ]
     },
     "execution_count": 129,
     "metadata": {},
     "output_type": "execute_result"
    }
   ],
   "source": [
    "Solution.reverseString(s)"
   ]
  },
  {
   "cell_type": "code",
   "execution_count": 133,
   "metadata": {
    "collapsed": true
   },
   "outputs": [],
   "source": [
    "class Solution(object):\n",
    "    def numJewelsInStones(J, S):\n",
    "        \"\"\"\n",
    "        :type J: str\n",
    "        :type S: str\n",
    "        :rtype: int\n",
    "        \"\"\"\n",
    "        return sum(S.count(j) for j in J)\n",
    "        \"\"\"\n",
    "        Zhen Tao\n",
    "        \"\"\""
   ]
  },
  {
   "cell_type": "code",
   "execution_count": 134,
   "metadata": {
    "collapsed": false
   },
   "outputs": [],
   "source": [
    "J = \"aA\"\n",
    "S = \"aAAbbbb\""
   ]
  },
  {
   "cell_type": "code",
   "execution_count": 135,
   "metadata": {
    "collapsed": false
   },
   "outputs": [
    {
     "data": {
      "text/plain": [
       "3"
      ]
     },
     "execution_count": 135,
     "metadata": {},
     "output_type": "execute_result"
    }
   ],
   "source": [
    "Solution.numJewelsInStones(J,S)"
   ]
  },
  {
   "cell_type": "code",
   "execution_count": 136,
   "metadata": {
    "collapsed": true
   },
   "outputs": [],
   "source": [
    "S = \"ababcbacadefegdehijhklij\""
   ]
  },
  {
   "cell_type": "code",
   "execution_count": 137,
   "metadata": {
    "collapsed": false
   },
   "outputs": [
    {
     "data": {
      "text/plain": [
       "'b'"
      ]
     },
     "execution_count": 137,
     "metadata": {},
     "output_type": "execute_result"
    }
   ],
   "source": [
    "S[1]"
   ]
  },
  {
   "cell_type": "code",
   "execution_count": 373,
   "metadata": {
    "collapsed": false
   },
   "outputs": [],
   "source": [
    "str1=[]\n",
    "for s in S:\n",
    "    str1.append(S.rindex(s))\n"
   ]
  },
  {
   "cell_type": "code",
   "execution_count": 382,
   "metadata": {
    "collapsed": false
   },
   "outputs": [
    {
     "name": "stdout",
     "output_type": "stream",
     "text": [
      "[9, 7, 8]\n"
     ]
    }
   ],
   "source": [
    "part1=[]\n",
    "parti=0\n",
    "for i in range(len(str1)):\n",
    "    if (str1[i+1:]):\n",
    "        if max(str1[:i+1])<min(str1[i+1:]):\n",
    "            part1.append(i+1-parti)\n",
    "            parti=i+1\n",
    "part1.append(len(str1)-parti)\n",
    "print(part1)        \n",
    "\n"
   ]
  },
  {
   "cell_type": "code",
   "execution_count": 217,
   "metadata": {
    "collapsed": false
   },
   "outputs": [
    {
     "name": "stdout",
     "output_type": "stream",
     "text": [
      "[1, 3, 4, 5, 6, 3, 3, 2, 1] 3 1\n",
      "[3, 4, 5, 6, 3, 3, 2, 1] 3 3\n",
      "[3, 4, 5, 6, 3, 2, 1] 3 2\n"
     ]
    },
    {
     "ename": "IndexError",
     "evalue": "list index out of range",
     "output_type": "error",
     "traceback": [
      "\u001b[0;31m---------------------------------------------------------------------------\u001b[0m",
      "\u001b[0;31mIndexError\u001b[0m                                Traceback (most recent call last)",
      "\u001b[0;32m<ipython-input-217-910b43d13e85>\u001b[0m in \u001b[0;36m<module>\u001b[0;34m()\u001b[0m\n\u001b[1;32m      2\u001b[0m \u001b[0mpoint\u001b[0m\u001b[0;34m=\u001b[0m\u001b[0mlist1\u001b[0m\u001b[0;34m[\u001b[0m\u001b[0;36m1\u001b[0m\u001b[0;34m]\u001b[0m\u001b[0;34m\u001b[0m\u001b[0m\n\u001b[1;32m      3\u001b[0m \u001b[0;32mfor\u001b[0m \u001b[0mi\u001b[0m \u001b[0;32min\u001b[0m \u001b[0mrange\u001b[0m\u001b[0;34m(\u001b[0m\u001b[0;36m0\u001b[0m\u001b[0;34m,\u001b[0m\u001b[0mlen\u001b[0m\u001b[0;34m(\u001b[0m\u001b[0mlist1\u001b[0m\u001b[0;34m)\u001b[0m\u001b[0;34m-\u001b[0m\u001b[0;36m1\u001b[0m\u001b[0;34m)\u001b[0m\u001b[0;34m:\u001b[0m\u001b[0;34m\u001b[0m\u001b[0m\n\u001b[0;32m----> 4\u001b[0;31m     \u001b[0;32mif\u001b[0m \u001b[0mlist1\u001b[0m\u001b[0;34m[\u001b[0m\u001b[0mi\u001b[0m\u001b[0;34m]\u001b[0m\u001b[0;34m<=\u001b[0m\u001b[0mpoint\u001b[0m\u001b[0;34m:\u001b[0m\u001b[0;34m\u001b[0m\u001b[0m\n\u001b[0m\u001b[1;32m      5\u001b[0m         \u001b[0mprint\u001b[0m\u001b[0;34m(\u001b[0m\u001b[0mlist1\u001b[0m\u001b[0;34m,\u001b[0m\u001b[0mpoint\u001b[0m\u001b[0;34m,\u001b[0m\u001b[0mlist1\u001b[0m\u001b[0;34m[\u001b[0m\u001b[0mi\u001b[0m\u001b[0;34m]\u001b[0m\u001b[0;34m)\u001b[0m\u001b[0;34m\u001b[0m\u001b[0m\n\u001b[1;32m      6\u001b[0m         \u001b[0mlist1\u001b[0m\u001b[0;34m.\u001b[0m\u001b[0mpop\u001b[0m\u001b[0;34m(\u001b[0m\u001b[0mi\u001b[0m\u001b[0;34m)\u001b[0m\u001b[0;34m\u001b[0m\u001b[0m\n",
      "\u001b[0;31mIndexError\u001b[0m: list index out of range"
     ]
    }
   ],
   "source": [
    "list1=[1,3,4,5,6,3,3,2,1]\n",
    "point=list1[1]\n",
    "for i in range(0,len(list1)-1):\n",
    "    if list1[i]<=point:\n",
    "        print(list1,point,list1[i])\n",
    "        list1.pop(i)\n",
    "        i=i-1"
   ]
  },
  {
   "cell_type": "code",
   "execution_count": 248,
   "metadata": {
    "collapsed": false
   },
   "outputs": [
    {
     "data": {
      "text/plain": [
       "[4, 5, 6, 3, 3, 2, 1]"
      ]
     },
     "execution_count": 248,
     "metadata": {},
     "output_type": "execute_result"
    }
   ],
   "source": [
    "list1=[1,3,4,5,6,3,3,2,1]\n",
    "list1[2:]"
   ]
  },
  {
   "cell_type": "code",
   "execution_count": 377,
   "metadata": {
    "collapsed": false
   },
   "outputs": [
    {
     "data": {
      "text/plain": [
       "set()"
      ]
     },
     "execution_count": 377,
     "metadata": {},
     "output_type": "execute_result"
    }
   ],
   "source": [
    "S = \"ababcbacadefegdehijhklij\"\n",
    "set(S[:9])&set(S[9:])"
   ]
  },
  {
   "cell_type": "code",
   "execution_count": 237,
   "metadata": {
    "collapsed": false
   },
   "outputs": [
    {
     "name": "stdout",
     "output_type": "stream",
     "text": [
      "[9, 7, 8]\n"
     ]
    }
   ],
   "source": [
    "S = \"ababcbacadefegdehijhklij\"\n",
    "sizes = []\n",
    "while S:\n",
    "    i = 1\n",
    "    while set(S[:i]) & set(S[i:]):\n",
    "        i += 1\n",
    "    sizes.append(i)\n",
    "    S = S[i:]\n",
    "print(sizes)"
   ]
  },
  {
   "cell_type": "code",
   "execution_count": 454,
   "metadata": {
    "collapsed": false
   },
   "outputs": [
    {
     "name": "stdout",
     "output_type": "stream",
     "text": [
      "[9, 7, 8]\n"
     ]
    }
   ],
   "source": [
    "dx = {}\n",
    "for i in range(len(S)):\n",
    "    ch=S[i]\n",
    "    if ch not in dx:\n",
    "        dx[ch] = [i, i] #start and end\n",
    "    else:\n",
    "        dx[ch][-1] = i #change end\n",
    "        \n",
    "dx = sorted(dx.values())\n",
    "##print(dx)\n",
    "result = []\n",
    "for dist in dx:\n",
    "    start, end = dist\n",
    "    ##print(dist,\",\")\n",
    "    if len(result) == 0:\n",
    "        result.append(dist)\n",
    "        \n",
    "    else:\n",
    "        if result[-1][1] > start: #end of that char is start of this char\n",
    "            result[-1][1] = max(end, result[-1][1]) #merge two ranges\n",
    "            ##print(result)\n",
    "            ##print(result[-1][1])\n",
    "        else:\n",
    "            result.append(dist) #new distance\n",
    "            ##print(result)\n",
    "print([(d[1]-d[0])+1  for d in result])"
   ]
  },
  {
   "cell_type": "code",
   "execution_count": 460,
   "metadata": {
    "collapsed": false
   },
   "outputs": [
    {
     "name": "stdout",
     "output_type": "stream",
     "text": [
      "[9, 7, 8]\n"
     ]
    }
   ],
   "source": [
    "dx={}\n",
    "for i in range(len(S)):\n",
    "    ch=S[i]\n",
    "    if ch not in dx:\n",
    "        dx[ch] = [i, i]\n",
    "    else:\n",
    "        dx[ch][-1] = i\n",
    "                \n",
    "dx = sorted(dx.values())\n",
    "ans=[]\n",
    "for dist in dx:\n",
    "    start,end = dist\n",
    "    if len(ans) == 0:\n",
    "        ans.append(dist)\n",
    "    else:\n",
    "        if ans[-1][1] > start:\n",
    "            ans[-1][1]=max(ans[-1][1],end)\n",
    "        else:\n",
    "            ans.append(dist)\n",
    "print([d[1]-d[0]+1 for d in ans])"
   ]
  },
  {
   "cell_type": "code",
   "execution_count": 459,
   "metadata": {
    "collapsed": true
   },
   "outputs": [],
   "source": [
    "S = \"ababcbacadefegdehijhklij\""
   ]
  },
  {
   "cell_type": "code",
   "execution_count": 473,
   "metadata": {
    "collapsed": false
   },
   "outputs": [
    {
     "name": "stdout",
     "output_type": "stream",
     "text": [
      "0 1\n",
      "2 3\n"
     ]
    }
   ],
   "source": [
    "num=[2, 7, 4, 5]\n",
    "target=9\n",
    "map = {}\n",
    "for i in range(len(num)):\n",
    "    if num[i] not in map:\n",
    "        map[target - num[i]] = i\n",
    "    else:\n",
    "        print(map[num[i]], i)"
   ]
  },
  {
   "cell_type": "code",
   "execution_count": 474,
   "metadata": {
    "collapsed": true
   },
   "outputs": [],
   "source": [
    "class Solution:\n",
    "    # @return a tuple, (index1, index2)\n",
    "    # 8:42\n",
    "    def twoSum(num, target):\n",
    "        map = {}\n",
    "        for i in range(len(num)):\n",
    "            if num[i] not in map:\n",
    "                map[target - num[i]] = i\n",
    "            else:\n",
    "                return map[num[i]], i \n",
    "\n",
    "        return -1, -1"
   ]
  },
  {
   "cell_type": "code",
   "execution_count": 475,
   "metadata": {
    "collapsed": false
   },
   "outputs": [
    {
     "data": {
      "text/plain": [
       "(0, 1)"
      ]
     },
     "execution_count": 475,
     "metadata": {},
     "output_type": "execute_result"
    }
   ],
   "source": [
    "Solution.twoSum(num,target)"
   ]
  },
  {
   "cell_type": "code",
   "execution_count": 3,
   "metadata": {
    "collapsed": true
   },
   "outputs": [],
   "source": [
    "# Definition for singly-linked list.\n",
    "class ListNode(object):\n",
    "    def __init__(self, x):\n",
    "        self.val = x\n",
    "        self.next = None"
   ]
  },
  {
   "cell_type": "code",
   "execution_count": 730,
   "metadata": {
    "collapsed": false
   },
   "outputs": [],
   "source": [
    "head = ListNode(1)\n",
    "ListNode2 = ListNode(2)\n",
    "ListNode3 = ListNode(3)\n",
    "ListNode4 = ListNode(4)\n",
    "ListNode5 = ListNode(5)\n",
    "head.next=ListNode2\n",
    "ListNode2.next=ListNode3\n",
    "ListNode3.next=ListNode4\n",
    "ListNode4.next=ListNode5"
   ]
  },
  {
   "cell_type": "code",
   "execution_count": 9,
   "metadata": {
    "collapsed": false
   },
   "outputs": [],
   "source": [
    "def printLL(head):\n",
    "    currentNode = head\n",
    "    while currentNode is not None:\n",
    "        print(currentNode.val)#change\n",
    "        currentNode = currentNode.next"
   ]
  },
  {
   "cell_type": "code",
   "execution_count": 732,
   "metadata": {
    "collapsed": false
   },
   "outputs": [],
   "source": [
    "class Solution(object):\n",
    "    def reverseKGroup(head, k):\n",
    "        #1. find the position \n",
    "        curr=head\n",
    "        for i in range(k+1):\n",
    "            pre=curr\n",
    "            curr=curr.next\n",
    "        #2. reverse the formor list\n",
    "        current=head\n",
    "        while (current.next).val != curr.val:\n",
    "            nn=current.next\n",
    "            current.next=pre\n",
    "            pre=current\n",
    "            current=nn\n",
    "        return(pre)"
   ]
  },
  {
   "cell_type": "code",
   "execution_count": 733,
   "metadata": {
    "collapsed": false
   },
   "outputs": [
    {
     "name": "stdout",
     "output_type": "stream",
     "text": [
      "3\n",
      "2\n",
      "1\n",
      "4\n",
      "5\n"
     ]
    }
   ],
   "source": [
    "tst=Solution.reverseKGroup(head,3)\n",
    "printLL(tst)"
   ]
  },
  {
   "cell_type": "code",
   "execution_count": 4,
   "metadata": {
    "collapsed": true
   },
   "outputs": [],
   "source": [
    "class Solution:\n",
    "    def twoSum(nums, target):\n",
    "        \"\"\"\n",
    "        :type nums: List[int]\n",
    "        :type target: int\n",
    "        :rtype: List[int]\n",
    "        \"\"\"\n",
    "        val_dict = {}\n",
    "        for i in range(len(nums)):\n",
    "            if target - nums[i] in val_dict:\n",
    "                return [i, val_dict[target - nums[i]]]\n",
    "            val_dict[nums[i]] = i"
   ]
  },
  {
   "cell_type": "code",
   "execution_count": 31,
   "metadata": {
    "collapsed": true
   },
   "outputs": [],
   "source": [
    "nums = [2, 7, 11, 13]\n",
    "target = 9"
   ]
  },
  {
   "cell_type": "code",
   "execution_count": 32,
   "metadata": {
    "collapsed": false
   },
   "outputs": [
    {
     "data": {
      "text/plain": [
       "[1, 0]"
      ]
     },
     "execution_count": 32,
     "metadata": {},
     "output_type": "execute_result"
    }
   ],
   "source": [
    "Solution.twoSum(nums,target)"
   ]
  },
  {
   "cell_type": "code",
   "execution_count": 40,
   "metadata": {
    "collapsed": false
   },
   "outputs": [
    {
     "name": "stdout",
     "output_type": "stream",
     "text": [
      "0 1\n"
     ]
    }
   ],
   "source": [
    "val_dict={}\n",
    "for i in range(len(nums)):\n",
    "    if target-nums[i] in val_dict:\n",
    "        print(val_dict[target-nums[i]],i)\n",
    "    val_dict[nums[i]]=i"
   ]
  },
  {
   "cell_type": "code",
   "execution_count": 78,
   "metadata": {
    "collapsed": true
   },
   "outputs": [],
   "source": [
    "class ListNode(object):\n",
    "     def __init__(self, x):\n",
    "         self.val = x\n",
    "         self.next = None"
   ]
  },
  {
   "cell_type": "code",
   "execution_count": 27,
   "metadata": {
    "collapsed": false
   },
   "outputs": [
    {
     "data": {
      "text/plain": [
       "1"
      ]
     },
     "execution_count": 27,
     "metadata": {},
     "output_type": "execute_result"
    }
   ],
   "source": [
    "l1=ListNode(1)\n",
    "l1n=ListNode(5)\n",
    "l1nn=ListNode(3)\n",
    "l1.next=l1n\n",
    "l1n.next=l1nn\n",
    "l1.val"
   ]
  },
  {
   "cell_type": "code",
   "execution_count": 28,
   "metadata": {
    "collapsed": false
   },
   "outputs": [
    {
     "data": {
      "text/plain": [
       "9"
      ]
     },
     "execution_count": 28,
     "metadata": {},
     "output_type": "execute_result"
    }
   ],
   "source": [
    "l2=ListNode(9)\n",
    "l2n=ListNode(9)\n",
    "#l2nn=ListNode(4)\n",
    "l2.next=l2n\n",
    "#l2n.next=l2nn\n",
    "l2.val"
   ]
  },
  {
   "cell_type": "code",
   "execution_count": 278,
   "metadata": {
    "collapsed": false
   },
   "outputs": [],
   "source": [
    "# Definition for singly-linked list.\n",
    "# class ListNode(object):\n",
    "#     def __init__(self, x):\n",
    "#         self.val = x\n",
    "#         self.next = None\n",
    "\n",
    "class Solution(object):\n",
    "    def addTwoNumbers(l1, l2):\n",
    "        \"\"\"\n",
    "        :type l1: ListNode\n",
    "        :type l2: ListNode\n",
    "        :rtype: ListNode\n",
    "        \"\"\"\n",
    "  \n",
    "        ans=ListNode(0)\n",
    "        current=ans\n",
    "        while l1 and l2:\n",
    "            if l1.val + l2.val<10:\n",
    "                overTen=False\n",
    "                current.val=current.val+l1.val+l2.val\n",
    "                l1=l1.next\n",
    "                l2=l2.next\n",
    "                if l1 and l2:\n",
    "                    current.next=ListNode(0)\n",
    "                    current=current.next\n",
    "            else:\n",
    "                overTen=True\n",
    "                current.val=current.val+l1.val+l2.val-10\n",
    "                current.next=ListNode(1)\n",
    "                current=current.next\n",
    "                l1=l1.next\n",
    "                l2=l2.next\n",
    "        \n",
    "        if l1 is None:\n",
    "            if l2 is not None:\n",
    "                if overTen is True:\n",
    "                    current.val=current.val+l2.val\n",
    "                    current.next=l2.next\n",
    "                else:\n",
    "                    current.next=l2\n",
    "                return(ans)\n",
    "            else:\n",
    "                return(ans)\n",
    "        else:\n",
    "            if l2 is None:\n",
    "                if overTen is True:\n",
    "                    current.val=current.val+l1.val\n",
    "                    current.next=l1.next\n",
    "                else:\n",
    "                    current.next=l1\n",
    "                return(ans)\n",
    "            else:\n",
    "                return(ans)"
   ]
  },
  {
   "cell_type": "code",
   "execution_count": 279,
   "metadata": {
    "collapsed": false
   },
   "outputs": [
    {
     "name": "stdout",
     "output_type": "stream",
     "text": [
      "0\n",
      "10\n"
     ]
    }
   ],
   "source": [
    "ans=Solution.addTwoNumbers(l1, l2)\n",
    "printLL(ans)"
   ]
  },
  {
   "cell_type": "code",
   "execution_count": 207,
   "metadata": {
    "collapsed": true
   },
   "outputs": [],
   "source": [
    "t1=ListNode(None)\n",
    "t2=ListNode(None)"
   ]
  },
  {
   "cell_type": "code",
   "execution_count": 213,
   "metadata": {
    "collapsed": false
   },
   "outputs": [],
   "source": [
    "if t1.val and t2.val is None:\n",
    "    print(1)"
   ]
  },
  {
   "cell_type": "code",
   "execution_count": 209,
   "metadata": {
    "collapsed": false
   },
   "outputs": [
    {
     "name": "stdout",
     "output_type": "stream",
     "text": [
      "<__main__.ListNode object at 0x1100a3860>\n"
     ]
    }
   ],
   "source": [
    "print(t1 and t2)"
   ]
  },
  {
   "cell_type": "code",
   "execution_count": 289,
   "metadata": {
    "collapsed": true
   },
   "outputs": [],
   "source": [
    "# Definition for singly-linked list.\n",
    "# class ListNode(object):\n",
    "#     def __init__(self, x):\n",
    "#         self.val = x\n",
    "#         self.next = None\n",
    "\n",
    "class Solution(object):\n",
    "    def addTwoNumbers(l1, l2):\n",
    "        \"\"\"\n",
    "        :type l1: ListNode\n",
    "        :type l2: ListNode\n",
    "        :rtype: ListNode\n",
    "        \"\"\"\n",
    "  \n",
    "        ans=ListNode(0)\n",
    "        current=ans\n",
    "        while l1 and l2:\n",
    "            if l1.val + l2.val<10:\n",
    "                overTen=False\n",
    "                current.val=current.val+l1.val+l2.val\n",
    "                l1=l1.next\n",
    "                l2=l2.next\n",
    "                if l1 and l2:\n",
    "                    current.next=ListNode(0)\n",
    "                    current=current.next\n",
    "            else:\n",
    "                overTen=True\n",
    "                current.val=current.val+l1.val+l2.val-10\n",
    "                current.next=ListNode(1)\n",
    "                current=current.next\n",
    "                l1=l1.next\n",
    "                l2=l2.next\n",
    "        \n",
    "        if l1 is None:\n",
    "            if l2 is not None:\n",
    "                if overTen is True:\n",
    "                    if current.val+l2.val<10:\n",
    "                        current.val=current.val+l2.val\n",
    "                        current.next=l2.next\n",
    "                    else:\n",
    "                        current.val=current.val+l2.val-10\n",
    "                        (l2.next).val=(l2.next).val+1\n",
    "                        current.next=l2.next \n",
    "                else:\n",
    "                    current.next=l2\n",
    "                return(ans)\n",
    "            else:\n",
    "                return(ans)\n",
    "        else:\n",
    "            if l2 is None:\n",
    "                if overTen is True:\n",
    "                    if current.val+l1.val<10:\n",
    "                        current.val=current.val+l1.val\n",
    "                        current.next=l1.next\n",
    "                    else:\n",
    "                        current.val=current.val+l1.val-10\n",
    "                        current.next=ListNode(1)\n",
    "                        if l1.next:\n",
    "                            (l1.next).val=\n",
    "                else:\n",
    "                    current.next=l1\n",
    "                return(ans)\n",
    "            else:\n",
    "                return(ans)\n",
    "        \"\"\"\n",
    "        Zhen Tao\n",
    "        2018/08/14\n",
    "        Use linked list\n",
    "        With special case handling\n",
    "        \"\"\""
   ]
  },
  {
   "cell_type": "code",
   "execution_count": 25,
   "metadata": {
    "collapsed": true
   },
   "outputs": [],
   "source": [
    "class Solution(object):\n",
    "    def addTwoNumbers(l1, l2):\n",
    "        \"\"\"\n",
    "        :type l1: ListNode\n",
    "        :type l2: ListNode\n",
    "        :rtype: ListNode\n",
    "        \"\"\"\n",
    "        num1=0\n",
    "        count1=0\n",
    "        while l1:\n",
    "            num1=num1+l1.val*10**count1\n",
    "            l1=l1.next\n",
    "            count1=count1+1\n",
    "        num2=0\n",
    "        count2=0\n",
    "        while l2:\n",
    "            num2=num2+l2.val*10**count2\n",
    "            l2=l2.next\n",
    "            count2=count2+1\n",
    "        twoSum=num1+num2\n",
    "        return(number_to_listR(twoSum))\n",
    "        \n",
    "    def number_to_listR(number):        \n",
    "        head = tt = None \n",
    "        str1=str(number)\n",
    "        for x in range(len(str1)):\n",
    "            node = ListNode((str1)[-x-1])\n",
    "        #print(node.val)\n",
    "            if head:#more pythonic than `if head`\n",
    "                tt.next = node\n",
    "                tt=tt.next\n",
    "            #print(node.val)\n",
    "            else:\n",
    "                head = node\n",
    "            #print(\"headv\")\n",
    "            #print(node.val)\n",
    "                tt = node\n",
    "            #print(\"ttv\")\n",
    "        return head       "
   ]
  },
  {
   "cell_type": "code",
   "execution_count": 29,
   "metadata": {
    "collapsed": false
   },
   "outputs": [
    {
     "name": "stdout",
     "output_type": "stream",
     "text": [
      "0\n",
      "5\n",
      "4\n"
     ]
    }
   ],
   "source": [
    "a=Solution.addTwoNumbers(l1,l2)\n",
    "printLL(a)"
   ]
  },
  {
   "cell_type": "code",
   "execution_count": 7,
   "metadata": {
    "collapsed": false
   },
   "outputs": [
    {
     "name": "stdout",
     "output_type": "stream",
     "text": [
      "351 99\n"
     ]
    }
   ],
   "source": [
    "num1=0\n",
    "count1=0\n",
    "while l1:\n",
    "    num1=num1+l1.val*10**count1\n",
    "    l1=l1.next\n",
    "    count1=count1+1\n",
    "num2=0\n",
    "count2=0\n",
    "while l2:\n",
    "    num2=num2+l2.val*10**count2\n",
    "    l2=l2.next\n",
    "    count2=count2+1\n",
    "print(num1,num2)\n"
   ]
  },
  {
   "cell_type": "code",
   "execution_count": 413,
   "metadata": {
    "collapsed": false
   },
   "outputs": [
    {
     "name": "stdout",
     "output_type": "stream",
     "text": [
      "450\n"
     ]
    },
    {
     "ename": "TypeError",
     "evalue": "'str' object is not callable",
     "output_type": "error",
     "traceback": [
      "\u001b[0;31m---------------------------------------------------------------------------\u001b[0m",
      "\u001b[0;31mTypeError\u001b[0m                                 Traceback (most recent call last)",
      "\u001b[0;32m<ipython-input-413-8af038bd9ac0>\u001b[0m in \u001b[0;36m<module>\u001b[0;34m()\u001b[0m\n\u001b[1;32m      1\u001b[0m \u001b[0mtsum\u001b[0m\u001b[0;34m=\u001b[0m\u001b[0mnum1\u001b[0m\u001b[0;34m+\u001b[0m\u001b[0mnum2\u001b[0m\u001b[0;34m\u001b[0m\u001b[0m\n\u001b[1;32m      2\u001b[0m \u001b[0mprint\u001b[0m\u001b[0;34m(\u001b[0m\u001b[0mtsum\u001b[0m\u001b[0;34m)\u001b[0m\u001b[0;34m\u001b[0m\u001b[0m\n\u001b[0;32m----> 3\u001b[0;31m \u001b[0mtt\u001b[0m\u001b[0;34m=\u001b[0m\u001b[0mListNode\u001b[0m\u001b[0;34m(\u001b[0m\u001b[0mstr\u001b[0m\u001b[0;34m(\u001b[0m\u001b[0mtsum\u001b[0m\u001b[0;34m)\u001b[0m\u001b[0;34m[\u001b[0m\u001b[0;36m0\u001b[0m\u001b[0;34m]\u001b[0m\u001b[0;34m)\u001b[0m\u001b[0;34m\u001b[0m\u001b[0m\n\u001b[0m\u001b[1;32m      4\u001b[0m \u001b[0mprint\u001b[0m\u001b[0;34m(\u001b[0m\u001b[0mtt\u001b[0m\u001b[0;34m.\u001b[0m\u001b[0mval\u001b[0m\u001b[0;34m)\u001b[0m\u001b[0;34m\u001b[0m\u001b[0m\n",
      "\u001b[0;31mTypeError\u001b[0m: 'str' object is not callable"
     ]
    }
   ],
   "source": [
    "tsum=num1+num2\n",
    "print(tsum)\n",
    "tt=ListNode(str(tsum)[0])\n",
    "print(tt.val)"
   ]
  },
  {
   "cell_type": "code",
   "execution_count": 16,
   "metadata": {
    "collapsed": false
   },
   "outputs": [],
   "source": [
    "def number_to_list(number):        \n",
    "    head = tt = None \n",
    "    str1=str(number)\n",
    "    for x in range(len(str1)):\n",
    "        node = ListNode((str1)[-x-1])\n",
    "        #print(node.val)\n",
    "        if head:#more pythonic than `if head`\n",
    "            tt.next = node\n",
    "            tt=tt.next\n",
    "            #print(node.val)\n",
    "        else:\n",
    "            head = node\n",
    "            #print(\"headv\")\n",
    "            #print(node.val)\n",
    "            tt = node\n",
    "            #print(\"ttv\")\n",
    "    return head "
   ]
  },
  {
   "cell_type": "code",
   "execution_count": 18,
   "metadata": {
    "collapsed": false
   },
   "outputs": [
    {
     "name": "stdout",
     "output_type": "stream",
     "text": [
      "0\n",
      "5\n",
      "4\n"
     ]
    }
   ],
   "source": [
    "a=number_to_list(tsum)\n",
    "printLL(a)"
   ]
  },
  {
   "cell_type": "code",
   "execution_count": 412,
   "metadata": {
    "collapsed": false
   },
   "outputs": [
    {
     "ename": "TypeError",
     "evalue": "'str' object is not callable",
     "output_type": "error",
     "traceback": [
      "\u001b[0;31m---------------------------------------------------------------------------\u001b[0m",
      "\u001b[0;31mTypeError\u001b[0m                                 Traceback (most recent call last)",
      "\u001b[0;32m<ipython-input-412-0c24dff2839f>\u001b[0m in \u001b[0;36m<module>\u001b[0;34m()\u001b[0m\n\u001b[1;32m      1\u001b[0m \u001b[0mnummmm\u001b[0m\u001b[0;34m=\u001b[0m\u001b[0;36m12\u001b[0m\u001b[0;34m\u001b[0m\u001b[0m\n\u001b[0;32m----> 2\u001b[0;31m \u001b[0mstr\u001b[0m\u001b[0;34m(\u001b[0m\u001b[0mnummmm\u001b[0m\u001b[0;34m)\u001b[0m\u001b[0;34m\u001b[0m\u001b[0m\n\u001b[0m",
      "\u001b[0;31mTypeError\u001b[0m: 'str' object is not callable"
     ]
    }
   ],
   "source": [
    "nummmm=12\n",
    "str(nummmm)"
   ]
  },
  {
   "cell_type": "code",
   "execution_count": null,
   "metadata": {
    "collapsed": true
   },
   "outputs": [],
   "source": []
  }
 ],
 "metadata": {
  "kernelspec": {
   "display_name": "Python 3",
   "language": "python",
   "name": "python3"
  },
  "language_info": {
   "codemirror_mode": {
    "name": "ipython",
    "version": 3
   },
   "file_extension": ".py",
   "mimetype": "text/x-python",
   "name": "python",
   "nbconvert_exporter": "python",
   "pygments_lexer": "ipython3",
   "version": "3.6.0"
  }
 },
 "nbformat": 4,
 "nbformat_minor": 2
}
